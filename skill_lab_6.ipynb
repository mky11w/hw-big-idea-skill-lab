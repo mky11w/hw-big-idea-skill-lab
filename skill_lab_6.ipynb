{
 "cells": [
  {
   "cell_type": "markdown",
   "id": "42c93d45",
   "metadata": {},
   "source": [
    "This is the code of Sentiment Chatbot program. Package `nltk` are required.\n",
    "\n",
    "To initial the chatbot, run this code block to download necessary datasets from `nltk`."
   ]
  },
  {
   "cell_type": "code",
   "execution_count": 5,
   "id": "fa9ca05d-cf46-4d3f-b84a-79209363c7dd",
   "metadata": {},
   "outputs": [
    {
     "name": "stderr",
     "output_type": "stream",
     "text": [
      "[nltk_data] Downloading package punkt to\n",
      "[nltk_data]     C:\\Users\\Eastlive\\AppData\\Roaming\\nltk_data...\n",
      "[nltk_data]   Package punkt is already up-to-date!\n",
      "[nltk_data] Downloading package stopwords to\n",
      "[nltk_data]     C:\\Users\\Eastlive\\AppData\\Roaming\\nltk_data...\n",
      "[nltk_data]   Package stopwords is already up-to-date!\n",
      "[nltk_data] Downloading package vader_lexicon to\n",
      "[nltk_data]     C:\\Users\\Eastlive\\AppData\\Roaming\\nltk_data...\n",
      "[nltk_data]   Package vader_lexicon is already up-to-date!\n"
     ]
    },
    {
     "data": {
      "text/plain": [
       "True"
      ]
     },
     "execution_count": 5,
     "metadata": {},
     "output_type": "execute_result"
    }
   ],
   "source": [
    "import nltk\n",
    "from nltk.tokenize import word_tokenize\n",
    "from nltk.corpus import stopwords\n",
    "from nltk.sentiment import SentimentIntensityAnalyzer\n",
    "\n",
    "nltk.download('punkt')\n",
    "nltk.download('stopwords')\n",
    "nltk.download('vader_lexicon')"
   ]
  },
  {
   "cell_type": "markdown",
   "id": "232640d8",
   "metadata": {},
   "source": [
    "Main code of Chatbot"
   ]
  },
  {
   "cell_type": "code",
   "execution_count": null,
   "id": "2ea165b2",
   "metadata": {},
   "outputs": [
    {
     "name": "stdout",
     "output_type": "stream",
     "text": [
      "Sounds nice! Hope you have a great time this week too!\n",
      "\n"
     ]
    }
   ],
   "source": [
    "name = input(\"What is your name?\")\n",
    "mood = input(f\"Hi {name}, how are you?\")\n",
    "txt = input(\"Tell me something about your last week!\")\n",
    "tokens = word_tokenize(txt)\n",
    "stop_words = set(stopwords.words('english'))\n",
    "filtered_tokens = [word for word in tokens if word.lower() not in stop_words]\n",
    "filtered_txt = \" \".join(filtered_tokens)\n",
    "sia = SentimentIntensityAnalyzer()\n",
    "sentiment_score = sia.polarity_scores(filtered_txt)\n",
    "\n",
    "if sentiment_score['compound'] > 0.5:\n",
    "    print(\"Sounds nice! Hope you have a great time this week too!\")\n",
    "elif sentiment_score['compound'] < -0.5:\n",
    "    print(\"ooof...that's tough...but things will get better!\")\n",
    "else:\n",
    "    print(\"Cool! Hope you can find something interesting to do this week!\")\n",
    "\n",
    "print()"
   ]
  }
 ],
 "metadata": {
  "kernelspec": {
   "display_name": "cs10",
   "language": "python",
   "name": "python3"
  },
  "language_info": {
   "codemirror_mode": {
    "name": "ipython",
    "version": 3
   },
   "file_extension": ".py",
   "mimetype": "text/x-python",
   "name": "python",
   "nbconvert_exporter": "python",
   "pygments_lexer": "ipython3",
   "version": "3.7.16"
  }
 },
 "nbformat": 4,
 "nbformat_minor": 5
}
