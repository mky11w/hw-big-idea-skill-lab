{
 "cells": [
  {
   "cell_type": "code",
   "execution_count": null,
   "id": "fa9ca05d-cf46-4d3f-b84a-79209363c7dd",
   "metadata": {},
   "outputs": [
    {
     "ename": "",
     "evalue": "",
     "output_type": "error",
     "traceback": [
      "\u001b[1;31m运行具有“.conda (Python 3.11.11)”的单元格需要ipykernel包。\n",
      "\u001b[1;31m运行以下命令，将 \"ipykernel\" 安装到 Python 环境中。\n",
      "\u001b[1;31m命令: \"conda install -p d:\\University\\Lectures\\Junior\\Spring\\CMPINF 0010\\Lab\\Lab6\\hw-big-idea-skill-lab\\.conda ipykernel --update-deps --force-reinstall\""
     ]
    }
   ],
   "source": [
    "import nltk\n",
    "from nltk.tokenize import word_tokenize\n",
    "from nltk.corpus import stopwords\n",
    "from nltk.sentiment import SentimentIntensityAnalyzer\n",
    "\n",
    "nltk.download('punkt_tab')\n",
    "nltk.download('stopwords')\n",
    "nltk.download('vader_lexicon') \n",
    "\n",
    "name = input(\"what is your name?\")\n",
    "mood = input(f\"Hi {name}, how are you?\")\n",
    "txt = input(f\"{mood}? tell me something about your last week!\")\n",
    "tokens = word_tokenize(txt)\n",
    "stop_words = set(stopwords.words('english'))\n",
    "filtered_tokens = [word for word in tokens if word.lower() not in stop_words]\n",
    "filtered_txt = \" \".join(filtered_tokens)\n",
    "sia = SentimentIntensityAnalyzer()\n",
    "sentiment_score = sia.polarity_scores(filtered_txt)\n",
    "\n",
    "if sentiment_score['compound'] > 0.5:\n",
    "    print(\"sounds nice! hope you have a great time this week too!\")\n",
    "elif sentiment_score['compound'] < -0.5:\n",
    "    print(\"ooof...that's tough...but things will get better!\")\n",
    "else:\n",
    "    print(\"cool! hope you can find something interesting to do this week!\")"
   ]
  },
  {
   "cell_type": "code",
   "execution_count": null,
   "id": "412bd9c4-5aae-4e42-9b79-70730490fd7c",
   "metadata": {},
   "outputs": [],
   "source": []
  }
 ],
 "metadata": {
  "kernelspec": {
   "display_name": "Python 3",
   "language": "python",
   "name": "python3"
  },
  "language_info": {
   "codemirror_mode": {
    "name": "ipython",
    "version": 3
   },
   "file_extension": ".py",
   "mimetype": "text/x-python",
   "name": "python",
   "nbconvert_exporter": "python",
   "pygments_lexer": "ipython3",
   "version": "3.11.11"
  }
 },
 "nbformat": 4,
 "nbformat_minor": 5
}
