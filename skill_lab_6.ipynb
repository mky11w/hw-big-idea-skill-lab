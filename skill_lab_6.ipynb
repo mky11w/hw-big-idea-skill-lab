{
 "cells": [
  {
   "cell_type": "code",
   "execution_count": null,
   "id": "fa9ca05d-cf46-4d3f-b84a-79209363c7dd",
   "metadata": {},
   "outputs": [
    {
     "name": "stderr",
     "output_type": "stream",
     "text": [
      "[nltk_data] Downloading package punkt_tab to\n",
      "[nltk_data]     /ihome/cmpinf0010_2025s/mac1055/nltk_data...\n",
      "[nltk_data]   Package punkt_tab is already up-to-date!\n",
      "[nltk_data] Downloading package stopwords to\n",
      "[nltk_data]     /ihome/cmpinf0010_2025s/mac1055/nltk_data...\n",
      "[nltk_data]   Package stopwords is already up-to-date!\n",
      "[nltk_data] Downloading package vader_lexicon to\n",
      "[nltk_data]     /ihome/cmpinf0010_2025s/mac1055/nltk_data...\n",
      "[nltk_data]   Package vader_lexicon is already up-to-date!\n"
     ]
    },
    {
     "name": "stdin",
     "output_type": "stream",
     "text": [
      "what is your name? makayla\n",
      "Hi makayla, how are you? good\n"
     ]
    }
   ],
   "source": [
    "import nltk\n",
    "from nltk.tokenize import word_tokenize\n",
    "from nltk.corpus import stopwords\n",
    "from nltk.sentiment import SentimentIntensityAnalyzer\n",
    "nltk.download('punkt_tab')\n",
    "nltk.download('stopwords')\n",
    "nltk.download('vader_lexicon') \n",
    "name=input(\"what is your name?\")\n",
    "mood=input(f\"Hi {name}, how are you?\")\n",
    "txt=input(f\"{mood}? tell me something about your last week!\")\n",
    "tokens=word_tokenize(txt)\n",
    "stop_words=set(stopwords.words('english'))\n",
    "filtered_tokens=[word for word in tokens if word.lower() not in stop_words]\n",
    "filtered_txt=\" \".join(filtered_tokens)\n",
    "sia=SentimentIntensityAnalyzer()\n",
    "sentiment_score=sia.polarity_scores(filtered_txt)\n",
    "if sentiment_score['compound']>0.5:\n",
    "    print(\"sounds nice! hope you have a great time this week too!\")\n",
    "elif sentiment_score['compound']<-0.5:\n",
    "    print(\"ooof...that's tough...but things will get better!\")\n",
    "else:\n",
    "    print(\"cool! hope you can find something interesting to do this week!\")"
   ]
  },
  {
   "cell_type": "code",
   "execution_count": null,
   "id": "412bd9c4-5aae-4e42-9b79-70730490fd7c",
   "metadata": {},
   "outputs": [],
   "source": []
  }
 ],
 "metadata": {
  "kernelspec": {
   "display_name": "Python 3 (ipykernel)",
   "language": "python",
   "name": "python3"
  },
  "language_info": {
   "codemirror_mode": {
    "name": "ipython",
    "version": 3
   },
   "file_extension": ".py",
   "mimetype": "text/x-python",
   "name": "python",
   "nbconvert_exporter": "python",
   "pygments_lexer": "ipython3",
   "version": "3.11.5"
  }
 },
 "nbformat": 4,
 "nbformat_minor": 5
}
